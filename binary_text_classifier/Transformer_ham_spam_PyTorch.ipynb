{
  "cells": [
    {
      "cell_type": "markdown",
      "metadata": {
        "id": "BmJqFJy3uxUd"
      },
      "source": [
        "## This notebook fine-tunes the DistilBert model for ham/spam classification."
      ]
    },
    {
      "cell_type": "code",
      "execution_count": null,
      "metadata": {
        "colab": {
          "base_uri": "https://localhost:8080/"
        },
        "collapsed": true,
        "id": "56-BQvZK7a0M",
        "outputId": "200e0964-0188-4fe1-8be2-e68f4e2aa984"
      },
      "outputs": [],
      "source": [
        "! pip install evaluate"
      ]
    },
    {
      "cell_type": "code",
      "execution_count": null,
      "metadata": {
        "colab": {
          "base_uri": "https://localhost:8080/"
        },
        "id": "YyeqXYn88PeJ",
        "outputId": "d58faf9e-26a8-4799-c16a-4c9789014f7b"
      },
      "outputs": [],
      "source": [
        "! pip install urlextract"
      ]
    },
    {
      "cell_type": "code",
      "execution_count": 3,
      "metadata": {
        "id": "pm8287UHiMna"
      },
      "outputs": [],
      "source": [
        "import numpy as np\n",
        "import pandas as pd\n",
        "import re\n",
        "\n",
        "import evaluate\n",
        "import torch\n",
        "import urlextract\n",
        "from sklearn.model_selection import train_test_split\n",
        "from sklearn.pipeline import make_pipeline\n",
        "from sklearn.preprocessing import FunctionTransformer\n",
        "from torch.utils.data import Dataset, DataLoader\n",
        "from transformers import AdamW, AutoTokenizer, AutoModelForSequenceClassification, DistilBertTokenizer, DistilBertModel, DataCollatorWithPadding\n",
        "\n",
        "import warnings\n",
        "warnings.simplefilter(action='ignore', category=FutureWarning)"
      ]
    },
    {
      "cell_type": "code",
      "execution_count": 4,
      "metadata": {
        "id": "emRxmfBKUiX7"
      },
      "outputs": [],
      "source": [
        "# Setting up the device for GPU usage\n",
        "from torch import cuda\n",
        "device = 'cuda' if cuda.is_available() else 'cpu'"
      ]
    },
    {
      "cell_type": "markdown",
      "metadata": {
        "id": "_rESuGNo-rjS"
      },
      "source": [
        "Import pre-processing functions:"
      ]
    },
    {
      "cell_type": "code",
      "execution_count": 6,
      "metadata": {
        "colab": {
          "base_uri": "https://localhost:8080/"
        },
        "id": "BlxyX6xT-cEk",
        "outputId": "fa834921-4173-4430-bb30-411e78d8122a"
      },
      "outputs": [
        {
          "name": "stderr",
          "output_type": "stream",
          "text": [
            "[nltk_data] Downloading package stopwords to /root/nltk_data...\n",
            "[nltk_data]   Unzipping corpora/stopwords.zip.\n"
          ]
        }
      ],
      "source": [
        "from text_processing_functions import unescape_html, remove_urls_by_tld, replace_word_containing, remove_numbers_from_text, remove_currency_from_text"
      ]
    },
    {
      "cell_type": "markdown",
      "metadata": {
        "id": "I4B8VpyG--Mr"
      },
      "source": [
        "Create a Scikit-learn pipeline to run some text pre-processing:"
      ]
    },
    {
      "cell_type": "code",
      "execution_count": 7,
      "metadata": {
        "id": "aFofG9GO73Vu"
      },
      "outputs": [],
      "source": [
        "# top-level domains to replace in texts:\n",
        "REAL_TLDS = [\"com\", \"org.uk\", \"net\", \"co.uk\", \"biz\", \"edu\", \"ac\", \"edu.sg\", \"tv\"]\n",
        "\n",
        "pre_processer_pipeline = make_pipeline(\n",
        "    FunctionTransformer(\n",
        "        unescape_html,\n",
        "    ),\n",
        "    FunctionTransformer(\n",
        "        remove_urls_by_tld,\n",
        "        kw_args=dict(tld_list=REAL_TLDS, replace_str=\"http\"),\n",
        "    ),\n",
        "    FunctionTransformer(\n",
        "        replace_word_containing,\n",
        "        kw_args=dict(str_contains_list=[\"http\", \"www\", \"co.uk\"], replacement=\"http\"),\n",
        "    ),\n",
        "    FunctionTransformer(\n",
        "        remove_numbers_from_text,\n",
        "        kw_args=dict(\n",
        "            min_digits=5,\n",
        "            max_word_length=20,\n",
        "            replace_str=\"phonenumber\",\n",
        "        ),\n",
        "    ),\n",
        "    FunctionTransformer(\n",
        "        remove_currency_from_text,\n",
        "        kw_args=dict(replace_str=\"currencystring\"),\n",
        "    )\n",
        ")"
      ]
    },
    {
      "cell_type": "markdown",
      "metadata": {
        "id": "a97euTihvT4j"
      },
      "source": [
        "Import the data and use Sklearn to make a stratified split for training and evaluation:"
      ]
    },
    {
      "cell_type": "code",
      "execution_count": 106,
      "metadata": {
        "id": "qGnrXL6DmGPc"
      },
      "outputs": [],
      "source": [
        "rng = np.random.RandomState(0)\n",
        "df = pd.read_csv(f\"SMSSpamCollection\", sep='\\t', names=[\"labels\", \"text\"])\n",
        "df = df.drop_duplicates(ignore_index=False)\n",
        "df[\"labels\"] = df[\"labels\"].replace([\"ham\", \"spam\"], [0, 1])\n",
        "X_train, X_test, y_train, y_test = train_test_split(df[\"text\"], df[\"labels\"], test_size=0.3, random_state=rng, stratify=df[\"labels\"])\n",
        "df_train = pd.concat([X_train, y_train], axis=1)\n",
        "df_test = pd.concat([X_test, y_test], axis=1)\n"
      ]
    },
    {
      "cell_type": "markdown",
      "metadata": {
        "id": "eaW9zabj8FmW"
      },
      "source": [
        "Run the Sklearn pre-processing pipeline:"
      ]
    },
    {
      "cell_type": "code",
      "execution_count": 107,
      "metadata": {
        "id": "lZsh4nn48FN9"
      },
      "outputs": [],
      "source": [
        "df_train[\"text\"] = pre_processer_pipeline.fit_transform(df_train[\"text\"])\n",
        "df_test[\"text\"] = pre_processer_pipeline.transform(df_test[\"text\"])"
      ]
    },
    {
      "cell_type": "markdown",
      "metadata": {
        "id": "9mX5yxZ5vjML"
      },
      "source": [
        "Convert the dataframes into datasets:"
      ]
    },
    {
      "cell_type": "code",
      "execution_count": 108,
      "metadata": {
        "id": "VVzRZux87drh"
      },
      "outputs": [],
      "source": [
        "class HamSpamDataset(Dataset):\n",
        "    def __init__(self, df, tokenizer, max_len):\n",
        "        self.df = df\n",
        "        self.tokenizer = tokenizer\n",
        "        self.max_len = max_len\n",
        "\n",
        "    def __len__(self):\n",
        "        return len(self.df)\n",
        "\n",
        "    def __getitem__(self, index):\n",
        "        row = self.df.iloc[index]\n",
        "        text = row[\"text\"]\n",
        "        label = row[\"labels\"]\n",
        "\n",
        "        inputs = self.tokenizer.encode_plus(\n",
        "            text,\n",
        "            None,\n",
        "            add_special_tokens=True,\n",
        "            max_length=self.max_len,\n",
        "            pad_to_max_length=True,\n",
        "            return_token_type_ids=True,\n",
        "            truncation=True\n",
        "        )\n",
        "\n",
        "        return {\n",
        "            'ids': torch.tensor(inputs['input_ids'], dtype=torch.long),\n",
        "            'mask': torch.tensor(inputs['attention_mask'], dtype=torch.long),\n",
        "            'targets': torch.tensor(label, dtype=torch.float32)\n",
        "        }\n"
      ]
    },
    {
      "cell_type": "code",
      "execution_count": 109,
      "metadata": {
        "id": "RWIkpZQh-mOG"
      },
      "outputs": [],
      "source": [
        "CHECKPOINT = \"distilbert-base-uncased\"\n",
        "tokenizer = AutoTokenizer.from_pretrained(CHECKPOINT)\n",
        "MAX_LEN = 256\n",
        "\n",
        "train_dataset = HamSpamDataset(df=df_train, tokenizer=tokenizer, max_len=MAX_LEN)\n",
        "test_dataset = HamSpamDataset(df=df_test, tokenizer=tokenizer, max_len=MAX_LEN)"
      ]
    },
    {
      "cell_type": "markdown",
      "metadata": {
        "id": "CSKEcpwf7yJg"
      },
      "source": [
        "Fine tune the Distilbert base model:"
      ]
    },
    {
      "cell_type": "code",
      "execution_count": 110,
      "metadata": {
        "id": "TuzVtTvS-jji"
      },
      "outputs": [],
      "source": [
        "class HamSpamClassifier(torch.nn.Module):\n",
        "    def __init__(self, model_dim, output_dim):\n",
        "        super().__init__()\n",
        "        self.model = DistilBertModel.from_pretrained(\"distilbert-base-uncased\")\n",
        "        self.pre_classifier = torch.nn.Linear(model_dim, model_dim)\n",
        "        self.dropout = torch.nn.Dropout(0.3)\n",
        "        self.classifier = torch.nn.Linear(model_dim, output_dim)\n",
        "\n",
        "    def forward(self, input_ids, attention_mask):\n",
        "        output_1 = self.model(input_ids=input_ids, attention_mask=attention_mask)\n",
        "        last_hidden_state = output_1[0]\n",
        "        pooler = last_hidden_state[:, 0, :]\n",
        "        pooler = self.pre_classifier(pooler)\n",
        "        pooler = torch.nn.ReLU()(pooler)\n",
        "        pooler = self.dropout(pooler)\n",
        "        output = self.classifier(pooler)\n",
        "        return output"
      ]
    },
    {
      "cell_type": "markdown",
      "metadata": {
        "id": "NjSpwdkd8BWc"
      },
      "source": [
        "Function to calculate metrics:"
      ]
    },
    {
      "cell_type": "code",
      "execution_count": 111,
      "metadata": {
        "id": "-zle0LKkvsWf"
      },
      "outputs": [],
      "source": [
        "def get_clf_metrics(preds, targets, verbose=False):\n",
        "    TP = ((preds == 1) & (targets == 1)).sum().item()\n",
        "    TN = ((preds == 0) & (targets == 0)).sum().item()\n",
        "    FP = ((preds == 1) & (targets == 0)).sum().item()\n",
        "    FN = ((preds == 0) & (targets == 1)).sum().item()\n",
        "\n",
        "    accuracy = (TP + TN) / (TP + TN + FP + FN) if TP + TN + FP + FN > 0 else 0\n",
        "    precision = TP / (TP + FP) if TP + FP > 0 else 0\n",
        "    recall = TP / (TP + FN) if TP + FN > 0 else 0\n",
        "    f1 = 2 * (precision * recall) / (precision + recall) if (precision + recall) > 0 else 0\n",
        "\n",
        "    if verbose:\n",
        "        print(f'Accuracy: {accuracy}')\n",
        "        print(f'Precision: {precision}')\n",
        "        print(f'Recall: {recall}')\n",
        "        print(f'F1 Score: {f1}')\n",
        "\n",
        "\n",
        "    return {\"accuracy\": accuracy, \"precision\": precision, \"recall\": recall, \"f1\": f1}\n"
      ]
    },
    {
      "cell_type": "markdown",
      "metadata": {
        "id": "NKmGQkMP8Dre"
      },
      "source": [
        "PyTorch training loop:"
      ]
    },
    {
      "cell_type": "code",
      "execution_count": 112,
      "metadata": {
        "id": "dWgkeF43sTYt"
      },
      "outputs": [],
      "source": [
        "def train(model, n_epochs, data_loader, learning_rate):\n",
        "    tr_loss = 0\n",
        "    n_correct = 0\n",
        "    nb_tr_steps = 0\n",
        "    nb_tr_examples = 0\n",
        "    metric_tracker = {\"accuracy\": [], \"precision\": [], \"recall\": [], \"f1\": []}\n",
        "\n",
        "    loss_function = torch.nn.BCEWithLogitsLoss()\n",
        "    optimizer = torch.optim.Adam(params=model.parameters(), lr=learning_rate)\n",
        "\n",
        "    model.train()\n",
        "    for epoch in range(n_epochs):\n",
        "        for i, data in enumerate(data_loader, 0):\n",
        "            ids = data['ids'].to(device, dtype = torch.long)\n",
        "            mask = data['mask'].to(device, dtype = torch.long)\n",
        "            targets = data['targets'].to(device, dtype = torch.float32)\n",
        "\n",
        "            outputs = model(ids, mask).squeeze()\n",
        "            loss = loss_function(outputs, targets)\n",
        "            tr_loss += loss.item()\n",
        "\n",
        "            nb_tr_steps += 1\n",
        "            nb_tr_examples+=targets.size(0)\n",
        "\n",
        "            preds = torch.round(torch.sigmoid(outputs))\n",
        "            n_correct += (preds==targets).sum().item()\n",
        "            acc_pre_rec_f1 = get_clf_metrics(preds, targets)\n",
        "            for key in metric_tracker:\n",
        "                if key in acc_pre_rec_f1:\n",
        "                    metric_tracker[key].append(acc_pre_rec_f1[key])\n",
        "\n",
        "            optimizer.zero_grad()\n",
        "            loss.backward()\n",
        "            optimizer.step()\n",
        "\n",
        "            if i%100 == 0:\n",
        "                print(f\"Epoch {epoch} step {i} loss {loss}\")\n",
        "\n",
        "        f1_avg = np.mean(metric_tracker[\"f1\"])\n",
        "        print(f\"F1 score after Epoch {epoch}: {f1_avg}\")\n",
        "        epoch_loss = tr_loss/nb_tr_steps\n",
        "        print(f\"Training Loss after Epoch {epoch}: {epoch_loss}\\n\")\n",
        "\n",
        "    return metric_tracker"
      ]
    },
    {
      "cell_type": "code",
      "execution_count": 113,
      "metadata": {
        "id": "dcGnYywux8p9"
      },
      "outputs": [],
      "source": [
        "BATCH_SIZE = 16\n",
        "EPOCHS = 3\n",
        "LEARNING_RATE = 1e-05"
      ]
    },
    {
      "cell_type": "code",
      "execution_count": 114,
      "metadata": {
        "colab": {
          "base_uri": "https://localhost:8080/"
        },
        "collapsed": true,
        "id": "o7biFIog3RL9",
        "outputId": "a472cb6c-e488-4c2d-8a68-658e35417117"
      },
      "outputs": [
        {
          "data": {
            "text/plain": [
              "HamSpamClassifier(\n",
              "  (model): DistilBertModel(\n",
              "    (embeddings): Embeddings(\n",
              "      (word_embeddings): Embedding(30522, 768, padding_idx=0)\n",
              "      (position_embeddings): Embedding(512, 768)\n",
              "      (LayerNorm): LayerNorm((768,), eps=1e-12, elementwise_affine=True)\n",
              "      (dropout): Dropout(p=0.1, inplace=False)\n",
              "    )\n",
              "    (transformer): Transformer(\n",
              "      (layer): ModuleList(\n",
              "        (0-5): 6 x TransformerBlock(\n",
              "          (attention): MultiHeadSelfAttention(\n",
              "            (dropout): Dropout(p=0.1, inplace=False)\n",
              "            (q_lin): Linear(in_features=768, out_features=768, bias=True)\n",
              "            (k_lin): Linear(in_features=768, out_features=768, bias=True)\n",
              "            (v_lin): Linear(in_features=768, out_features=768, bias=True)\n",
              "            (out_lin): Linear(in_features=768, out_features=768, bias=True)\n",
              "          )\n",
              "          (sa_layer_norm): LayerNorm((768,), eps=1e-12, elementwise_affine=True)\n",
              "          (ffn): FFN(\n",
              "            (dropout): Dropout(p=0.1, inplace=False)\n",
              "            (lin1): Linear(in_features=768, out_features=3072, bias=True)\n",
              "            (lin2): Linear(in_features=3072, out_features=768, bias=True)\n",
              "            (activation): GELUActivation()\n",
              "          )\n",
              "          (output_layer_norm): LayerNorm((768,), eps=1e-12, elementwise_affine=True)\n",
              "        )\n",
              "      )\n",
              "    )\n",
              "  )\n",
              "  (pre_classifier): Linear(in_features=768, out_features=768, bias=True)\n",
              "  (dropout): Dropout(p=0.3, inplace=False)\n",
              "  (classifier): Linear(in_features=768, out_features=1, bias=True)\n",
              ")"
            ]
          },
          "execution_count": 114,
          "metadata": {},
          "output_type": "execute_result"
        }
      ],
      "source": [
        "model_0 = HamSpamClassifier(checkpoint=CHECKPOINT, model_dim=768, output_dim=1)\n",
        "model_0.to(device)"
      ]
    },
    {
      "cell_type": "code",
      "execution_count": 115,
      "metadata": {
        "colab": {
          "base_uri": "https://localhost:8080/"
        },
        "id": "CwqK8QEKZkRm",
        "outputId": "0f192a3d-b9de-4e79-c0fe-8c3684ab7276"
      },
      "outputs": [
        {
          "name": "stdout",
          "output_type": "stream",
          "text": [
            "Epoch 0 step 0 loss 0.8041091561317444\n",
            "Epoch 0 step 100 loss 0.0472838468849659\n",
            "Epoch 0 step 200 loss 0.06419757753610611\n",
            "F1 score after Epoch 0: 0.6285118404385053\n",
            "Training Loss after Epoch 0: 0.15769029433720044\n",
            "\n",
            "Epoch 1 step 0 loss 0.017748268321156502\n",
            "Epoch 1 step 100 loss 0.008950903080403805\n",
            "Epoch 1 step 200 loss 0.0068129668943583965\n",
            "F1 score after Epoch 1: 0.754525831414274\n",
            "Training Loss after Epoch 1: 0.09802512780328318\n",
            "\n",
            "Epoch 2 step 0 loss 0.005401670932769775\n",
            "Epoch 2 step 100 loss 0.009082114323973656\n",
            "Epoch 2 step 200 loss 0.006141296122223139\n",
            "F1 score after Epoch 2: 0.790888698461904\n",
            "Training Loss after Epoch 2: 0.07360907300052653\n",
            "\n"
          ]
        }
      ],
      "source": [
        "train_loader = DataLoader(train_dataset, batch_size=BATCH_SIZE, shuffle=True)\n",
        "metrics = train(model=model_0, n_epochs=EPOCHS, data_loader=train_loader, learning_rate=LEARNING_RATE)"
      ]
    },
    {
      "cell_type": "code",
      "execution_count": 116,
      "metadata": {
        "colab": {
          "base_uri": "https://localhost:8080/",
          "height": 410
        },
        "id": "dx0dOy_XxRVB",
        "outputId": "d9ab94f5-7c9e-4e42-a46a-e08c6cd9c518"
      },
      "outputs": [
        {
          "data": {
            "image/png": "[encoded data removed]",
            "text/plain": [
              "<Figure size 800x400 with 1 Axes>"
            ]
          },
          "metadata": {},
          "output_type": "display_data"
        }
      ],
      "source": [
        "import matplotlib.pyplot as plt\n",
        "\n",
        "# Plot the metrics from training\n",
        "precision = pd.Series(metrics[\"precision\"]).rolling(100).mean()\n",
        "recall = pd.Series(metrics[\"recall\"]).rolling(100).mean()\n",
        "f1 = pd.Series(metrics[\"f1\"]).rolling(100).mean()\n",
        "\n",
        "plt.figure(figsize=(8,4))\n",
        "plt.plot(precision, label=\"precision\")\n",
        "plt.plot(recall, label=\"recall\")\n",
        "plt.plot(f1, label=\"f1\")\n",
        "plt.xlabel(\"Batch\")\n",
        "plt.ylabel(\"Metric\")\n",
        "plt.title(\"Training metrics rolling average\")\n",
        "plt.legend()\n",
        "plt.show()"
      ]
    },
    {
      "cell_type": "markdown",
      "metadata": {
        "id": "W5nCY-T88JhK"
      },
      "source": [
        "Evaluate on the test set:"
      ]
    },
    {
      "cell_type": "code",
      "execution_count": 117,
      "metadata": {
        "id": "6NFYj2b5a5oa"
      },
      "outputs": [],
      "source": [
        "def valid(model, testing_loader):\n",
        "    test_targets = []\n",
        "    test_preds = []\n",
        "    model.eval()\n",
        "    with torch.inference_mode():\n",
        "        for i, data in enumerate(testing_loader, 0):\n",
        "            ids = data['ids'].to(device, dtype = torch.long)\n",
        "            mask = data['mask'].to(device, dtype = torch.long)\n",
        "            targets = data['targets'].to(device, dtype = torch.float32)\n",
        "            outputs = model(ids, mask).squeeze()\n",
        "            preds = torch.round(torch.sigmoid(outputs))\n",
        "            test_targets += targets.tolist()\n",
        "            test_preds += preds.tolist()\n",
        "\n",
        "    metrics = get_clf_metrics(torch.Tensor(test_preds), torch.Tensor(test_targets))\n",
        "    acc, precision, recall, f1 = metrics[\"accuracy\"], metrics[\"precision\"], metrics[\"recall\"], metrics[\"f1\"]\n",
        "    print(f\"Test metrics:\\nPrecision = {precision} \\nRecall = {recall} \\nF1 score = {f1}\")\n",
        "    return metrics\n"
      ]
    },
    {
      "cell_type": "code",
      "execution_count": 118,
      "metadata": {
        "colab": {
          "base_uri": "https://localhost:8080/"
        },
        "id": "BWG4KlfDoMb6",
        "outputId": "612a71c3-c211-4670-eb54-c5a2b7b16fb6"
      },
      "outputs": [
        {
          "name": "stdout",
          "output_type": "stream",
          "text": [
            "Test metrics:\n",
            "Precision = 0.989247311827957 \n",
            "Recall = 0.9387755102040817 \n",
            "F1 score = 0.9633507853403142\n"
          ]
        }
      ],
      "source": [
        "test_loader = DataLoader(test_dataset, batch_size=BATCH_SIZE)\n",
        "metrics_test = valid(model=model_0, testing_loader=test_loader)\n"
      ]
    }
  ],
  "metadata": {
    "accelerator": "GPU",
    "colab": {
      "gpuType": "T4",
      "provenance": []
    },
    "kernelspec": {
      "display_name": "Python 3",
      "name": "python3"
    },
    "language_info": {
      "name": "python"
    }
  },
  "nbformat": 4,
  "nbformat_minor": 0
}
